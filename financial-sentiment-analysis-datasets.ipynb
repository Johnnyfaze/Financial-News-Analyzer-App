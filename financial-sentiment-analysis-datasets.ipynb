{
 "cells": [
  {
   "cell_type": "code",
   "execution_count": 1,
   "id": "f97d4183",
   "metadata": {
    "_cell_guid": "b1076dfc-b9ad-4769-8c92-a6c4dae69d19",
    "_uuid": "8f2839f25d086af736a60e9eeb907d3b93b6e0e5",
    "execution": {
     "iopub.execute_input": "2025-08-13T03:33:06.090577Z",
     "iopub.status.busy": "2025-08-13T03:33:06.090242Z",
     "iopub.status.idle": "2025-08-13T03:33:08.051159Z",
     "shell.execute_reply": "2025-08-13T03:33:08.050210Z"
    },
    "papermill": {
     "duration": 1.965721,
     "end_time": "2025-08-13T03:33:08.052866",
     "exception": false,
     "start_time": "2025-08-13T03:33:06.087145",
     "status": "completed"
    },
    "tags": []
   },
   "outputs": [],
   "source": [
    "import pandas as pd\n",
    "\n",
    "# load data\n",
    "dataset_1 = pd.read_csv(\"/kaggle/input/financial-sentiment-analysis/data.csv\")\n",
    "dataset_2 = pd.read_csv(\"/kaggle/input/sentiment-analysis-for-financial-news/all-data.csv\", encoding='latin-1')\\\n",
    "\n",
    "# combine datasets (had to use some complicated pandas logic for the 2nd dataset, as it doesnt have column names)\n",
    "combined_sentences = pd.concat([dataset_1[\"Sentence\"], dataset_2[dataset_2.columns[1]]], axis=0)\n",
    "combined_sentiment = pd.concat([dataset_1[\"Sentiment\"], dataset_2[dataset_2.columns[0]]], axis=0)\n",
    "\n",
    "# create new dataframe with the combined data, and save it to file\n",
    "new_df = pd.DataFrame({\n",
    "    'Sentence': combined_sentences,\n",
    "    'Sentiment': combined_sentiment\n",
    "}).to_csv(\"data.csv\", index=False)"
   ]
  }
 ],
 "metadata": {
  "kaggle": {
   "accelerator": "none",
   "dataSources": [
    {
     "datasetId": 1918992,
     "sourceId": 3205803,
     "sourceType": "datasetVersion"
    },
    {
     "datasetId": 622510,
     "sourceId": 1192499,
     "sourceType": "datasetVersion"
    }
   ],
   "dockerImageVersionId": 31089,
   "isGpuEnabled": false,
   "isInternetEnabled": true,
   "language": "python",
   "sourceType": "notebook"
  },
  "kernelspec": {
   "display_name": "Python 3",
   "language": "python",
   "name": "python3"
  },
  "language_info": {
   "codemirror_mode": {
    "name": "ipython",
    "version": 3
   },
   "file_extension": ".py",
   "mimetype": "text/x-python",
   "name": "python",
   "nbconvert_exporter": "python",
   "pygments_lexer": "ipython3",
   "version": "3.11.13"
  },
  "papermill": {
   "default_parameters": {},
   "duration": 7.28825,
   "end_time": "2025-08-13T03:33:08.572616",
   "environment_variables": {},
   "exception": null,
   "input_path": "__notebook__.ipynb",
   "output_path": "__notebook__.ipynb",
   "parameters": {},
   "start_time": "2025-08-13T03:33:01.284366",
   "version": "2.6.0"
  }
 },
 "nbformat": 4,
 "nbformat_minor": 5
}
